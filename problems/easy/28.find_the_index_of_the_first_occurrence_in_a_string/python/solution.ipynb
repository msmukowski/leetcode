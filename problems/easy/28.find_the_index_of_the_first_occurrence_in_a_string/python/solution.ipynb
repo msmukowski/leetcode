{
 "cells": [
  {
   "cell_type": "code",
   "execution_count": 29,
   "metadata": {},
   "outputs": [],
   "source": [
    "from IPython.core.interactiveshell import InteractiveShell\n",
    "InteractiveShell.ast_node_interactivity = \"all\""
   ]
  },
  {
   "cell_type": "markdown",
   "metadata": {},
   "source": [
    "## First Solution\n",
    "\n",
    "- LeetCode statistics, of 3 consecutive submissions:\n",
    "\n",
    "| Runtime [ms] | Beats users with Python3 [%] |   | Memory [MB] | Beats users with Python3 [%] |\n",
    "|--------------|------------------------------|---|-------------|------------------------------|\n",
    "| 34           | 64.33                        |   | 16.53       | 43.95                        |\n",
    "| 32           | 76.17                        |   | 16.48       | 91.12                        |\n",
    "| 34           | 64.33                        |   | 16.51       | 43.95                        |\n",
    "\n",
    " \n",
    "Average:\n",
    "| Runtime [ms] | Beats users with Python3 [%] |   | Memory [MB] | Beats users with Python3 [%] |\n",
    "|--------------|------------------------------|---|-------------|------------------------------|\n",
    "| 33.34  | 68.28 |   | 16.51 | 59.67 |\n",
    "\n",
    "  - Disclaimer: LeetCode statistics seem somewhat random, so the average of 3 consecutive runs was used as the final statistic"
   ]
  },
  {
   "cell_type": "code",
   "execution_count": 30,
   "metadata": {},
   "outputs": [],
   "source": [
    "def str_str(haystack: str, needle: str) -> int:\n",
    "    for i, _ in enumerate(haystack):\n",
    "        occ = -1\n",
    "        if len(needle) > len(haystack[i:]):\n",
    "            return occ\n",
    "        occ = i\n",
    "        for j, _ in enumerate(needle):\n",
    "            if needle[j] != haystack[i+j] or i+j > len(haystack):\n",
    "                occ = -1\n",
    "                break\n",
    "        if occ >= 0:\n",
    "            return occ\n",
    "    return occ"
   ]
  },
  {
   "cell_type": "code",
   "execution_count": 31,
   "metadata": {},
   "outputs": [
    {
     "data": {
      "text/plain": [
       "0"
      ]
     },
     "execution_count": 31,
     "metadata": {},
     "output_type": "execute_result"
    },
    {
     "data": {
      "text/plain": [
       "3"
      ]
     },
     "execution_count": 31,
     "metadata": {},
     "output_type": "execute_result"
    },
    {
     "data": {
      "text/plain": [
       "-1"
      ]
     },
     "execution_count": 31,
     "metadata": {},
     "output_type": "execute_result"
    },
    {
     "data": {
      "text/plain": [
       "-1"
      ]
     },
     "execution_count": 31,
     "metadata": {},
     "output_type": "execute_result"
    },
    {
     "data": {
      "text/plain": [
       "-1"
      ]
     },
     "execution_count": 31,
     "metadata": {},
     "output_type": "execute_result"
    }
   ],
   "source": [
    "str_str(\"sadbutsad\", \"sad\")  # Expected 0\n",
    "str_str(\"butsadbut\", \"sad\")  # Expected 3\n",
    "str_str(\"leetcode\", \"leeto\")  # Expected -1\n",
    "str_str(\"aaa\", \"aaaa\")  # Expected -1\n",
    "str_str(\"mississippi\", \"issipi\")  # Expected -1"
   ]
  }
 ],
 "metadata": {
  "kernelspec": {
   "display_name": "notebook",
   "language": "python",
   "name": "python3"
  },
  "language_info": {
   "codemirror_mode": {
    "name": "ipython",
    "version": 3
   },
   "file_extension": ".py",
   "mimetype": "text/x-python",
   "name": "python",
   "nbconvert_exporter": "python",
   "pygments_lexer": "ipython3",
   "version": "3.11.8"
  }
 },
 "nbformat": 4,
 "nbformat_minor": 2
}
