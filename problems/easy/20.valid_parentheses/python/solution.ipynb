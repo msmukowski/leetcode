{
 "cells": [
  {
   "cell_type": "code",
   "execution_count": 1,
   "metadata": {},
   "outputs": [],
   "source": [
    "from IPython.core.interactiveshell import InteractiveShell\n",
    "InteractiveShell.ast_node_interactivity = \"all\""
   ]
  },
  {
   "cell_type": "markdown",
   "metadata": {},
   "source": [
    "## Solution\n",
    "\n",
    "- LeetCode statistics:\n",
    "  - Runtime: 29ms\n",
    "    - beats 90.59% users with Python3\n",
    "  - Memory: 16.52 MB\n",
    "    - beats 77.46% of users with Python3\n",
    "  - Disclaimer: LeetCode's statistics seem a bit random"
   ]
  },
  {
   "cell_type": "code",
   "execution_count": 80,
   "metadata": {},
   "outputs": [],
   "source": [
    "def is_valid(s: str) -> bool:\n",
    "    parentheses = {\")\": \"(\", \"]\": \"[\", \"}\": \"{\"}\n",
    "    if s[0] in parentheses.keys():\n",
    "        return False\n",
    "    elif s[-1] in parentheses.values():\n",
    "        return False\n",
    "    to_close_ordered = []\n",
    "    for c in s:\n",
    "        if (p:=parentheses.get(c)) and to_close_ordered and to_close_ordered[-1] == p:\n",
    "            to_close_ordered.pop()\n",
    "        elif not p:\n",
    "            to_close_ordered.append(c)\n",
    "        else: return False\n",
    "    if to_close_ordered: return False\n",
    "    return True"
   ]
  },
  {
   "cell_type": "code",
   "execution_count": 81,
   "metadata": {},
   "outputs": [
    {
     "data": {
      "text/plain": [
       "True"
      ]
     },
     "execution_count": 81,
     "metadata": {},
     "output_type": "execute_result"
    },
    {
     "data": {
      "text/plain": [
       "True"
      ]
     },
     "execution_count": 81,
     "metadata": {},
     "output_type": "execute_result"
    },
    {
     "data": {
      "text/plain": [
       "True"
      ]
     },
     "execution_count": 81,
     "metadata": {},
     "output_type": "execute_result"
    },
    {
     "data": {
      "text/plain": [
       "True"
      ]
     },
     "execution_count": 81,
     "metadata": {},
     "output_type": "execute_result"
    },
    {
     "data": {
      "text/plain": [
       "True"
      ]
     },
     "execution_count": 81,
     "metadata": {},
     "output_type": "execute_result"
    },
    {
     "data": {
      "text/plain": [
       "False"
      ]
     },
     "execution_count": 81,
     "metadata": {},
     "output_type": "execute_result"
    },
    {
     "data": {
      "text/plain": [
       "False"
      ]
     },
     "execution_count": 81,
     "metadata": {},
     "output_type": "execute_result"
    }
   ],
   "source": [
    "s1 = \"()\"  # True\n",
    "s2 = \"()()\"  # True\n",
    "s3 = \"(())()\"  # True\n",
    "s4 = \"(){}[]\"  # True\n",
    "s5 = \"{()}()\"  # True\n",
    "s6 = \"{()}(()\"  # False\n",
    "s7 = \"[])\"  # False\n",
    "is_valid(s1)\n",
    "is_valid(s2)\n",
    "is_valid(s3)\n",
    "is_valid(s4)\n",
    "is_valid(s5)\n",
    "is_valid(s6)\n",
    "is_valid(s7)\n",
    "\n"
   ]
  },
  {
   "cell_type": "markdown",
   "metadata": {},
   "source": [
    "## Improved Solution\n",
    "\n",
    "- LeetCode statistics:\n",
    "  - Runtime: 22ms\n",
    "    - beats 99.38% users with Python3\n",
    "  - Memory: 16.64 MB\n",
    "    - beats 29.06% of users with Python3\n",
    "  - Disclaimer: LeetCode's statistics seem a bit random"
   ]
  },
  {
   "cell_type": "code",
   "execution_count": 84,
   "metadata": {},
   "outputs": [],
   "source": [
    "def is_valid_v2(s: str) -> bool:\n",
    "    to_close_ordered = []\n",
    "    parentheses = {\")\": \"(\", \"]\": \"[\", \"}\": \"{\"}\n",
    "    for c in s:\n",
    "        if c in parentheses:\n",
    "            if to_close_ordered and to_close_ordered[-1] == parentheses[c]:\n",
    "                to_close_ordered.pop()\n",
    "            else:\n",
    "                return False\n",
    "        else:\n",
    "            to_close_ordered.append(c)\n",
    "    return True if not to_close_ordered else False"
   ]
  },
  {
   "cell_type": "code",
   "execution_count": 85,
   "metadata": {},
   "outputs": [
    {
     "data": {
      "text/plain": [
       "True"
      ]
     },
     "execution_count": 85,
     "metadata": {},
     "output_type": "execute_result"
    },
    {
     "data": {
      "text/plain": [
       "True"
      ]
     },
     "execution_count": 85,
     "metadata": {},
     "output_type": "execute_result"
    },
    {
     "data": {
      "text/plain": [
       "True"
      ]
     },
     "execution_count": 85,
     "metadata": {},
     "output_type": "execute_result"
    },
    {
     "data": {
      "text/plain": [
       "True"
      ]
     },
     "execution_count": 85,
     "metadata": {},
     "output_type": "execute_result"
    },
    {
     "data": {
      "text/plain": [
       "True"
      ]
     },
     "execution_count": 85,
     "metadata": {},
     "output_type": "execute_result"
    },
    {
     "data": {
      "text/plain": [
       "False"
      ]
     },
     "execution_count": 85,
     "metadata": {},
     "output_type": "execute_result"
    },
    {
     "data": {
      "text/plain": [
       "False"
      ]
     },
     "execution_count": 85,
     "metadata": {},
     "output_type": "execute_result"
    }
   ],
   "source": [
    "is_valid_v2(s1)\n",
    "is_valid_v2(s2)\n",
    "is_valid_v2(s3)\n",
    "is_valid_v2(s4)\n",
    "is_valid_v2(s5)\n",
    "is_valid_v2(s6)\n",
    "is_valid_v2(s7)"
   ]
  }
 ],
 "metadata": {
  "kernelspec": {
   "display_name": "notebook",
   "language": "python",
   "name": "python3"
  },
  "language_info": {
   "codemirror_mode": {
    "name": "ipython",
    "version": 3
   },
   "file_extension": ".py",
   "mimetype": "text/x-python",
   "name": "python",
   "nbconvert_exporter": "python",
   "pygments_lexer": "ipython3",
   "version": "3.11.8"
  }
 },
 "nbformat": 4,
 "nbformat_minor": 2
}
