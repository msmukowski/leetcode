{
 "cells": [
  {
   "cell_type": "code",
   "execution_count": 148,
   "metadata": {},
   "outputs": [],
   "source": [
    "from IPython.core.interactiveshell import InteractiveShell\n",
    "InteractiveShell.ast_node_interactivity = \"all\"\n",
    "\n",
    "from copy import deepcopy\n",
    "from typing import Optional"
   ]
  },
  {
   "cell_type": "code",
   "execution_count": 149,
   "metadata": {},
   "outputs": [],
   "source": [
    "# Definition for singly-linked list.\n",
    "class ListNode:\n",
    "    def __init__(self, val=0, next=None):\n",
    "        self.val = val\n",
    "        self.next = next\n",
    "    \n",
    "    def to_list(self) -> list:\n",
    "        final_list = []\n",
    "        node = self\n",
    "        while node:\n",
    "            final_list.append(node.val)\n",
    "            node = node.next\n",
    "        return final_list"
   ]
  },
  {
   "cell_type": "markdown",
   "metadata": {},
   "source": [
    "## Solution\n",
    "\n",
    "- LeetCode statistics:\n",
    "  - Runtime: 36ms\n",
    "    - beats 78.82% users with Python3\n",
    "  - Memory: 16.52 MB\n",
    "    - beats 59.50% of users with Python3\n",
    "  - Disclaimer: LeetCode's statistics seem a bit random"
   ]
  },
  {
   "cell_type": "code",
   "execution_count": 150,
   "metadata": {},
   "outputs": [],
   "source": [
    "def merge_two_lists(list_1: Optional[ListNode], list_2: Optional[ListNode]) -> Optional[ListNode]:\n",
    "    head = ListNode()\n",
    "    tail = head\n",
    "    \n",
    "    while list_1 and list_2:\n",
    "        if list_1.val > list_2.val:\n",
    "            tail.next = list_2\n",
    "            list_2 = list_2.next\n",
    "        else:\n",
    "            tail.next = list_1\n",
    "            list_1 = list_1.next\n",
    "        tail = tail.next\n",
    "    if remaining_tail := list_1 or list_2:\n",
    "        tail.next = remaining_tail\n",
    "    return head.next"
   ]
  },
  {
   "cell_type": "markdown",
   "metadata": {},
   "source": [
    "#### Test Case 1"
   ]
  },
  {
   "cell_type": "code",
   "execution_count": 151,
   "metadata": {},
   "outputs": [],
   "source": [
    "list_1 = ListNode(1, ListNode(2, ListNode(4)))\n",
    "list_2 = ListNode(1, ListNode(3, ListNode(4)))"
   ]
  },
  {
   "cell_type": "code",
   "execution_count": 152,
   "metadata": {},
   "outputs": [
    {
     "data": {
      "text/plain": [
       "[1, 1, 2, 3, 4, 4]"
      ]
     },
     "execution_count": 152,
     "metadata": {},
     "output_type": "execute_result"
    }
   ],
   "source": [
    "node = merge_two_lists(deepcopy(list_1), deepcopy(list_2))\n",
    "node.to_list()"
   ]
  },
  {
   "cell_type": "markdown",
   "metadata": {},
   "source": [
    "##### Test Case 2"
   ]
  },
  {
   "cell_type": "code",
   "execution_count": 153,
   "metadata": {},
   "outputs": [],
   "source": [
    "list_3 = ListNode(2, ListNode(4, ListNode(5)))\n",
    "list_4 = ListNode(1, ListNode(3, ListNode(4)))"
   ]
  },
  {
   "cell_type": "code",
   "execution_count": 154,
   "metadata": {},
   "outputs": [
    {
     "data": {
      "text/plain": [
       "[1, 2, 3, 4, 4, 5]"
      ]
     },
     "execution_count": 154,
     "metadata": {},
     "output_type": "execute_result"
    }
   ],
   "source": [
    "node = merge_two_lists(deepcopy(list_3), deepcopy(list_4))\n",
    "node.to_list()"
   ]
  }
 ],
 "metadata": {
  "kernelspec": {
   "display_name": "notebook",
   "language": "python",
   "name": "python3"
  },
  "language_info": {
   "codemirror_mode": {
    "name": "ipython",
    "version": 3
   },
   "file_extension": ".py",
   "mimetype": "text/x-python",
   "name": "python",
   "nbconvert_exporter": "python",
   "pygments_lexer": "ipython3",
   "version": "3.11.8"
  }
 },
 "nbformat": 4,
 "nbformat_minor": 2
}
