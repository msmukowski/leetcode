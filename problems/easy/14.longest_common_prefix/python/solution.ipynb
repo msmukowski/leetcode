{
 "cells": [
  {
   "cell_type": "code",
   "execution_count": 33,
   "metadata": {},
   "outputs": [],
   "source": [
    "from IPython.core.interactiveshell import InteractiveShell\n",
    "InteractiveShell.ast_node_interactivity = \"all\""
   ]
  },
  {
   "cell_type": "markdown",
   "metadata": {},
   "source": [
    "## Solution 1:\n",
    "\n",
    "- LeetCode statistics:\n",
    "  - Runtime: 36ms\n",
    "    - beats 70.01% users with Python3\n",
    "  - Memory: 16.62 MB\n",
    "    - beats 49.58% of users with Python3"
   ]
  },
  {
   "cell_type": "code",
   "execution_count": 34,
   "metadata": {},
   "outputs": [],
   "source": [
    "def longest_common_prefix(strs: list[str]) -> str:\n",
    "    strs.sort(key=len)\n",
    "    shortest = strs[0]\n",
    "    prefixes = [shortest[:len(shortest)-i] for i, _ in enumerate(shortest)]\n",
    "    for prefix in prefixes:\n",
    "        matched = all(prefix == s[:len(prefix)] for s in strs[1:])\n",
    "        if matched:\n",
    "            return prefix\n",
    "    return \"\""
   ]
  },
  {
   "cell_type": "code",
   "execution_count": 35,
   "metadata": {},
   "outputs": [
    {
     "data": {
      "text/plain": [
       "'fl'"
      ]
     },
     "execution_count": 35,
     "metadata": {},
     "output_type": "execute_result"
    },
    {
     "data": {
      "text/plain": [
       "''"
      ]
     },
     "execution_count": 35,
     "metadata": {},
     "output_type": "execute_result"
    }
   ],
   "source": [
    "longest_common_prefix([\"flower\",\"flow\",\"flight\"])\n",
    "longest_common_prefix([\"dog\",\"racecar\",\"car\"])"
   ]
  }
 ],
 "metadata": {
  "kernelspec": {
   "display_name": "notebook",
   "language": "python",
   "name": "python3"
  },
  "language_info": {
   "codemirror_mode": {
    "name": "ipython",
    "version": 3
   },
   "file_extension": ".py",
   "mimetype": "text/x-python",
   "name": "python",
   "nbconvert_exporter": "python",
   "pygments_lexer": "ipython3",
   "version": "3.11.8"
  }
 },
 "nbformat": 4,
 "nbformat_minor": 2
}
