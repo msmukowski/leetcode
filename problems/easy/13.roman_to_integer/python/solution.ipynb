{
 "cells": [
  {
   "cell_type": "markdown",
   "metadata": {},
   "source": [
    "## Suboptimal solution"
   ]
  },
  {
   "cell_type": "code",
   "execution_count": 33,
   "metadata": {},
   "outputs": [],
   "source": [
    "def roman_to_int(s: str) -> int:\n",
    "    roman_int_map = {\n",
    "        \"I\": 1,\n",
    "        \"V\": 5,\n",
    "        \"X\": 10,\n",
    "        \"L\": 50,\n",
    "        \"C\": 100,\n",
    "        \"D\": 500,\n",
    "        \"M\": 1000,\n",
    "    }\n",
    "    substraction_numerals_map = {\n",
    "        \"IV\": 4,\n",
    "        \"IX\": 9,\n",
    "        \"XL\": 40,\n",
    "        \"XC\": 90,\n",
    "        \"CD\": 400,\n",
    "        \"CM\": 900,\n",
    "    }\n",
    "    cache = None\n",
    "    numeral = 0\n",
    "    for char in list(s):\n",
    "        if cache:\n",
    "            num = substraction_numerals_map.get(cache+char)\n",
    "            if num:\n",
    "                numeral += num\n",
    "                cache=None\n",
    "                continue\n",
    "            numeral += roman_int_map[cache]\n",
    "        cache = char\n",
    "    else:\n",
    "        if cache:\n",
    "            numeral += roman_int_map[cache]\n",
    "    return numeral"
   ]
  },
  {
   "cell_type": "code",
   "execution_count": 34,
   "metadata": {},
   "outputs": [
    {
     "name": "stdout",
     "output_type": "stream",
     "text": [
      "3\n",
      "58\n",
      "1994\n",
      "159\n"
     ]
    }
   ],
   "source": [
    "print(roman_to_int(\"III\"))\n",
    "print(roman_to_int(\"LVIII\"))\n",
    "print(roman_to_int(\"MCMXCIV\"))\n",
    "print(roman_to_int(\"CLIX\"))"
   ]
  },
  {
   "cell_type": "markdown",
   "metadata": {},
   "source": [
    "## Better solution"
   ]
  },
  {
   "cell_type": "code",
   "execution_count": 37,
   "metadata": {},
   "outputs": [],
   "source": [
    "def roman_to_int_v2(s: str) -> int:\n",
    "    roman_int_map = {\n",
    "        \"I\": 1,\n",
    "        \"V\": 5,\n",
    "        \"X\": 10,\n",
    "        \"L\": 50,\n",
    "        \"C\": 100,\n",
    "        \"D\": 500,\n",
    "        \"M\": 1000,\n",
    "    }\n",
    "\n",
    "    numeral = 0\n",
    "    for i in range(len(s)):\n",
    "        if i + 1 < len(s) and roman_int_map[s[i]] < roman_int_map[s[i + 1]]:\n",
    "            numeral -= roman_int_map[s[i]]\n",
    "        else:\n",
    "            numeral += roman_int_map[s[i]]\n",
    "    return numeral"
   ]
  },
  {
   "cell_type": "code",
   "execution_count": 38,
   "metadata": {},
   "outputs": [
    {
     "name": "stdout",
     "output_type": "stream",
     "text": [
      "3\n",
      "58\n",
      "1994\n",
      "159\n"
     ]
    }
   ],
   "source": [
    "print(roman_to_int_v2(\"III\"))\n",
    "print(roman_to_int_v2(\"LVIII\"))\n",
    "print(roman_to_int_v2(\"MCMXCIV\"))\n",
    "print(roman_to_int_v2(\"CLIX\"))"
   ]
  }
 ],
 "metadata": {
  "kernelspec": {
   "display_name": "notebook",
   "language": "python",
   "name": "python3"
  },
  "language_info": {
   "codemirror_mode": {
    "name": "ipython",
    "version": 3
   },
   "file_extension": ".py",
   "mimetype": "text/x-python",
   "name": "python",
   "nbconvert_exporter": "python",
   "pygments_lexer": "ipython3",
   "version": "3.11.8"
  }
 },
 "nbformat": 4,
 "nbformat_minor": 2
}
