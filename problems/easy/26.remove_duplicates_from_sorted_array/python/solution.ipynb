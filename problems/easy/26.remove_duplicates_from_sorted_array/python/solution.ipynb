{
 "cells": [
  {
   "cell_type": "code",
   "execution_count": 1,
   "metadata": {},
   "outputs": [],
   "source": [
    "from IPython.core.interactiveshell import InteractiveShell\n",
    "InteractiveShell.ast_node_interactivity = \"all\""
   ]
  },
  {
   "cell_type": "code",
   "execution_count": 18,
   "metadata": {},
   "outputs": [],
   "source": [
    "def remove_duplicates(nums: list[int]):\n",
    "    prev = nums[0]\n",
    "    for i in range(1, len(nums)):\n",
    "        num = nums[i]\n",
    "        print(f\"{i}, {num=}, {prev=}\", nums)\n",
    "        if num == \"_\" or num == prev:\n",
    "            nums[i] = nums[i+1]\n",
    "            nums[i+1] = \"_\"\n",
    "        prev = nums[i]\n",
    "    return nums\n"
   ]
  },
  {
   "cell_type": "code",
   "execution_count": 19,
   "metadata": {},
   "outputs": [
    {
     "name": "stdout",
     "output_type": "stream",
     "text": [
      "1, num=0, prev=0 [0, 0, 1, 1, 1, 2, 2, 3, 3, 4]\n",
      "2, num='_', prev=1 [0, 1, '_', 1, 1, 2, 2, 3, 3, 4]\n",
      "3, num='_', prev=1 [0, 1, 1, '_', 1, 2, 2, 3, 3, 4]\n",
      "4, num='_', prev=1 [0, 1, 1, 1, '_', 2, 2, 3, 3, 4]\n",
      "5, num='_', prev=2 [0, 1, 1, 1, 2, '_', 2, 3, 3, 4]\n",
      "6, num='_', prev=2 [0, 1, 1, 1, 2, 2, '_', 3, 3, 4]\n",
      "7, num='_', prev=3 [0, 1, 1, 1, 2, 2, 3, '_', 3, 4]\n",
      "8, num='_', prev=3 [0, 1, 1, 1, 2, 2, 3, 3, '_', 4]\n",
      "9, num='_', prev=4 [0, 1, 1, 1, 2, 2, 3, 3, 4, '_']\n"
     ]
    },
    {
     "ename": "IndexError",
     "evalue": "list index out of range",
     "output_type": "error",
     "traceback": [
      "\u001b[0;31m---------------------------------------------------------------------------\u001b[0m",
      "\u001b[0;31mIndexError\u001b[0m                                Traceback (most recent call last)",
      "Cell \u001b[0;32mIn[19], line 1\u001b[0m\n\u001b[0;32m----> 1\u001b[0m \u001b[43mremove_duplicates\u001b[49m\u001b[43m(\u001b[49m\u001b[43m[\u001b[49m\u001b[38;5;241;43m0\u001b[39;49m\u001b[43m,\u001b[49m\u001b[38;5;241;43m0\u001b[39;49m\u001b[43m,\u001b[49m\u001b[38;5;241;43m1\u001b[39;49m\u001b[43m,\u001b[49m\u001b[38;5;241;43m1\u001b[39;49m\u001b[43m,\u001b[49m\u001b[38;5;241;43m1\u001b[39;49m\u001b[43m,\u001b[49m\u001b[38;5;241;43m2\u001b[39;49m\u001b[43m,\u001b[49m\u001b[38;5;241;43m2\u001b[39;49m\u001b[43m,\u001b[49m\u001b[38;5;241;43m3\u001b[39;49m\u001b[43m,\u001b[49m\u001b[38;5;241;43m3\u001b[39;49m\u001b[43m,\u001b[49m\u001b[38;5;241;43m4\u001b[39;49m\u001b[43m]\u001b[49m\u001b[43m)\u001b[49m\n",
      "Cell \u001b[0;32mIn[18], line 7\u001b[0m, in \u001b[0;36mremove_duplicates\u001b[0;34m(nums)\u001b[0m\n\u001b[1;32m      5\u001b[0m \u001b[38;5;28mprint\u001b[39m(\u001b[38;5;124mf\u001b[39m\u001b[38;5;124m\"\u001b[39m\u001b[38;5;132;01m{\u001b[39;00mi\u001b[38;5;132;01m}\u001b[39;00m\u001b[38;5;124m, \u001b[39m\u001b[38;5;132;01m{\u001b[39;00mnum\u001b[38;5;132;01m=}\u001b[39;00m\u001b[38;5;124m, \u001b[39m\u001b[38;5;132;01m{\u001b[39;00mprev\u001b[38;5;132;01m=}\u001b[39;00m\u001b[38;5;124m\"\u001b[39m, nums)\n\u001b[1;32m      6\u001b[0m \u001b[38;5;28;01mif\u001b[39;00m num \u001b[38;5;241m==\u001b[39m \u001b[38;5;124m\"\u001b[39m\u001b[38;5;124m_\u001b[39m\u001b[38;5;124m\"\u001b[39m \u001b[38;5;129;01mor\u001b[39;00m num \u001b[38;5;241m==\u001b[39m prev:\n\u001b[0;32m----> 7\u001b[0m     nums[i] \u001b[38;5;241m=\u001b[39m \u001b[43mnums\u001b[49m\u001b[43m[\u001b[49m\u001b[43mi\u001b[49m\u001b[38;5;241;43m+\u001b[39;49m\u001b[38;5;241;43m1\u001b[39;49m\u001b[43m]\u001b[49m\n\u001b[1;32m      8\u001b[0m     nums[i\u001b[38;5;241m+\u001b[39m\u001b[38;5;241m1\u001b[39m] \u001b[38;5;241m=\u001b[39m \u001b[38;5;124m\"\u001b[39m\u001b[38;5;124m_\u001b[39m\u001b[38;5;124m\"\u001b[39m\n\u001b[1;32m      9\u001b[0m prev \u001b[38;5;241m=\u001b[39m nums[i]\n",
      "\u001b[0;31mIndexError\u001b[0m: list index out of range"
     ]
    }
   ],
   "source": [
    "remove_duplicates([0,0,1,1,1,2,2,3,3,4])"
   ]
  }
 ],
 "metadata": {
  "kernelspec": {
   "display_name": "notebook",
   "language": "python",
   "name": "python3"
  },
  "language_info": {
   "codemirror_mode": {
    "name": "ipython",
    "version": 3
   },
   "file_extension": ".py",
   "mimetype": "text/x-python",
   "name": "python",
   "nbconvert_exporter": "python",
   "pygments_lexer": "ipython3",
   "version": "3.11.8"
  }
 },
 "nbformat": 4,
 "nbformat_minor": 2
}
