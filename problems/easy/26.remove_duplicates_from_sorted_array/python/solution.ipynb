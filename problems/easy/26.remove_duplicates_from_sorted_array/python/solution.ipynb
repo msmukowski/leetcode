{
 "cells": [
  {
   "cell_type": "code",
   "execution_count": 20,
   "metadata": {},
   "outputs": [],
   "source": [
    "from IPython.core.interactiveshell import InteractiveShell\n",
    "InteractiveShell.ast_node_interactivity = \"all\""
   ]
  },
  {
   "cell_type": "markdown",
   "metadata": {},
   "source": [
    "## First Solution\n",
    "\n",
    "- LeetCode statistics, of 3 consecutive submissions:\n",
    "\n",
    "| Runtime [ms] | Beats users with Python3 [%] |   | Memory [MB] | Beats users with Python3 [%] |\n",
    "|--------------|------------------------------|---|-------------|------------------------------|\n",
    "| 65           | 95.77                        |   | 17.84       | 91.16                        |\n",
    "| 71           | 81.00                        |   | 17.83       | 91.17                        |\n",
    "| 79           | 41.97                        |   | 18.01       | 24.55                        |\n",
    "\n",
    " \n",
    "Average:\n",
    "| Runtime [ms] | Beats users with Python3 [%] |   | Memory [MB] | Beats users with Python3 [%] |\n",
    "|--------------|------------------------------|---|-------------|------------------------------|\n",
    "| 71.67  | 72.91 |   | 17.89 | 68.96 |\n",
    "\n",
    "  - Disclaimer: LeetCode statistics seem somewhat random, so the average of 3 consecutive runs was used as the final statistic"
   ]
  },
  {
   "cell_type": "code",
   "execution_count": 36,
   "metadata": {},
   "outputs": [],
   "source": [
    "def remove_duplicates(nums: list[int]):\n",
    "    prev = nums[0]\n",
    "    for i in range(1, len(nums)):\n",
    "        num = nums[i]\n",
    "        if num is not None and num == prev:\n",
    "            prev = num\n",
    "            nums[i] = None\n",
    "        elif num is not None:\n",
    "            prev = num\n",
    "    num_pos = 1\n",
    "    unique_count = 1\n",
    "    for i in range(num_pos, len(nums)):\n",
    "        num = nums[i]\n",
    "        if num_pos != i:\n",
    "            nums[i] = None\n",
    "        if num is not None:\n",
    "            nums[num_pos] = num\n",
    "            num_pos += 1\n",
    "            unique_count += 1\n",
    "    return unique_count\n"
   ]
  },
  {
   "cell_type": "code",
   "execution_count": 38,
   "metadata": {},
   "outputs": [
    {
     "data": {
      "text/plain": [
       "(2, [1, 2])"
      ]
     },
     "execution_count": 38,
     "metadata": {},
     "output_type": "execute_result"
    },
    {
     "data": {
      "text/plain": [
       "(3, [1, 2, 3])"
      ]
     },
     "execution_count": 38,
     "metadata": {},
     "output_type": "execute_result"
    },
    {
     "data": {
      "text/plain": [
       "(5, [0, 1, 2, 3, 4, None, None, None, None, None])"
      ]
     },
     "execution_count": 38,
     "metadata": {},
     "output_type": "execute_result"
    }
   ],
   "source": [
    "nums = [1,2]\n",
    "remove_duplicates(nums), nums\n",
    "nums = [1,2,3]\n",
    "remove_duplicates(nums), nums\n",
    "nums = [0,0,1,1,1,2,2,3,3,4]\n",
    "remove_duplicates(nums), nums\n"
   ]
  },
  {
   "cell_type": "markdown",
   "metadata": {},
   "source": [
    "## Second Solution\n",
    "\n",
    "- LeetCode statistics, of 3 consecutive submissions:\n",
    "\n",
    "| Runtime [ms] | Beats users with Python3 [%] |   | Memory [MB] | Beats users with Python3 [%] |\n",
    "|--------------|------------------------------|---|-------------|------------------------------|\n",
    "| 77           | 51.62                        |   | 17.94       | 58.34                        |\n",
    "| 79           | 41.97                        |   | 17.86       | 91.17                        |\n",
    "| 81           | 33.72                        |   | 17.77       | 99.13                        |\n",
    "\n",
    " \n",
    "Average:\n",
    "| Runtime [ms] | Beats users with Python3 [%] |   | Memory [MB] | Beats users with Python3 [%] |\n",
    "|--------------|------------------------------|---|-------------|------------------------------|\n",
    "| 79  | 42.47 |   | 17.85 | 82.88 |\n",
    "\n",
    "  - Disclaimer: LeetCode statistics seem somewhat random, so the average of 3 consecutive runs was used as the final statistic"
   ]
  },
  {
   "cell_type": "code",
   "execution_count": 75,
   "metadata": {},
   "outputs": [],
   "source": [
    "def remove_duplicates(nums: list[int]):\n",
    "    left_ptr = 0\n",
    "    for i in range(1, len(nums)):\n",
    "        if nums[left_ptr] != nums[i]:\n",
    "            left_ptr += 1\n",
    "            nums[left_ptr] = nums[i]\n",
    "        if left_ptr != i:\n",
    "            nums[i] = None\n",
    "    return left_ptr + 1\n"
   ]
  },
  {
   "cell_type": "code",
   "execution_count": 76,
   "metadata": {},
   "outputs": [
    {
     "data": {
      "text/plain": [
       "(2, [1, 2])"
      ]
     },
     "execution_count": 76,
     "metadata": {},
     "output_type": "execute_result"
    },
    {
     "data": {
      "text/plain": [
       "(3, [1, 2, 3])"
      ]
     },
     "execution_count": 76,
     "metadata": {},
     "output_type": "execute_result"
    },
    {
     "data": {
      "text/plain": [
       "(5, [0, 1, 2, 3, 4, None, None, None, None, None])"
      ]
     },
     "execution_count": 76,
     "metadata": {},
     "output_type": "execute_result"
    }
   ],
   "source": [
    "nums = [1,2]\n",
    "remove_duplicates(nums), nums\n",
    "nums = [1,2,3]\n",
    "remove_duplicates(nums), nums\n",
    "nums = [0,0,1,1,1,2,2,3,3,4]\n",
    "remove_duplicates(nums), nums"
   ]
  }
 ],
 "metadata": {
  "kernelspec": {
   "display_name": "notebook",
   "language": "python",
   "name": "python3"
  },
  "language_info": {
   "codemirror_mode": {
    "name": "ipython",
    "version": 3
   },
   "file_extension": ".py",
   "mimetype": "text/x-python",
   "name": "python",
   "nbconvert_exporter": "python",
   "pygments_lexer": "ipython3",
   "version": "3.11.8"
  }
 },
 "nbformat": 4,
 "nbformat_minor": 2
}
